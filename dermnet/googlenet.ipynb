{
 "metadata": {
  "name": ""
 },
 "nbformat": 3,
 "nbformat_minor": 0,
 "worksheets": [
  {
   "cells": [
    {
     "cell_type": "code",
     "collapsed": false,
     "input": [
      "import numpy as np\n",
      "import matplotlib.pyplot as plt\n",
      "import sys, re\n",
      "import caffe\n",
      "\n",
      "sys.path.insert(0, \"/home/samskruthi/caffe/python\")\n",
      "plt.rcParams['figure.figsize'] = (10, 10)\n",
      "plt.rcParams['image.interpolation'] = 'nearest'\n",
      "plt.rcParams['image.cmap'] = 'gray'\n",
      "\n",
      "transformer.set_mean('data', np.load(\"/home/samskruthi/caffe/python/caffe/imagenet/ilsvrc_2012_mean.npy\").mean(1).mean(1))\n",
      "\n",
      "caffe.set_mode_cpu()\n",
      "net = caffe.Net(\"/home/samskruthi/caffe/models/dermnet/train_val.prototxt\",\n",
      "                \"/home/samskruthi/caffe/models/dermnet/bvlc_googlenet_iter_2500.caffemodel\",caffe.TEST)\n",
      "\n",
      "transformer = caffe.io.Transformer({'data': net.blobs['data'].data.shape})\n",
      "transformer.set_transpose('data', (2, 0, 1))\n",
      "\n",
      "transformer.set_raw_scale('data', 255)\n",
      "\n",
      "net.blobs['data'].reshape(10, 3, 224, 224)\n",
      "\n",
      "\n",
      "with open(\"/home/samskruthi/caffe/data/dermnet/test.txt\") as testfile:\n",
      "    test_images = [line.strip().split(' ', 1) for line in testfile] #take test data into test_images\n",
      "\n",
      "classes = []\n",
      "regex = re.compile(\"(^\\d+\\. .+)$\")\n",
      "with open(\"/home/samskruthi/caffe/data/dermnet/image_dictionary.txt\") as mapfile:\n",
      "    for line in mapfile:\n",
      "\tmatch = regex.match(line.strip()) #match with the expression \n",
      "\tif match:\n",
      "\t    classes.append(match.group(1)) #if matched add to classes\n",
      "\n",
      "top1_acc = 0\n",
      "top5_acc = 0\n",
      "top1 = False\n",
      "top5 = False\n",
      "n = 0\n",
      "\n",
      "for test_image in test_images:\n",
      "    net.blobs['data'].data[...] = transformer.preprocess('data',caffe.io.load_image(test_image[0])) \n",
      "    out = net.forward()\n",
      "    print(\"\\nImage: %s.\" % (test_image[0]))\n",
      "    print(\"Actual class: %s.\" % (test_image[1]))\n",
      "    print(\"Predicted class: {}.\".format(out['prob'][0].argmax())) \n",
      "    probabilities = zip(classes, out['prob'][0].tolist())\n",
      "    probabilities.sort(key=lambda x: x[1])\n",
      "    for p in probabilities[::-1][:5]:\n",
      "        if test_image[1] == p[0].split(' ', 1)[0][:-1]:\n",
      "\t        top5_acc += 1\n",
      "\t        top5 = True\n",
      "    if int(test_image[1]) == out['prob'][0].argmax():\n",
      "\t    top1_acc += 1\n",
      "\t    top1 = True\n",
      "    \n",
      "    print(\"Actual class is equal to Predicted class: %s \" % (str(top1)))\n",
      "    print(\"Actual class is in top-5 predictions: %s \" %(str(top5)))\n",
      "    print (\"The top-5 predicted classes are :\")\n",
      "    for p in probabilities[::-1][:5]:\n",
      "        print(\"%s \" %(p[0]))\n",
      "    top1 = False\n",
      "    top5 = False\n",
      "    n += 1\n",
      "    print(\"The Top-1 accuracy is  : %f\" % (float(top1_acc) / n))\n",
      "    print(\"The Top-5 accuracy is : %f\" % (float(top5_acc) / n))\n"
     ],
     "language": "python",
     "metadata": {},
     "outputs": [
      {
       "output_type": "stream",
       "stream": "stderr",
       "text": [
        "/usr/local/lib/python2.7/dist-packages/matplotlib/font_manager.py:273: UserWarning: Matplotlib is building the font cache using fc-list. This may take a moment.\n",
        "  warnings.warn('Matplotlib is building the font cache using fc-list. This may take a moment.')\n",
        "/home/samskruthi/caffe/python/caffe/pycaffe.py:13: RuntimeWarning: to-Python converter for boost::shared_ptr<caffe::Net<float> > already registered; second conversion method ignored.\n",
        "  from ._caffe import Net, SGDSolver, NesterovSolver, AdaGradSolver, \\\n"
       ]
      },
      {
       "ename": "KeyboardInterrupt",
       "evalue": "",
       "output_type": "pyerr",
       "traceback": [
        "\u001b[1;31m---------------------------------------------------------------------------\u001b[0m\n\u001b[1;31mKeyboardInterrupt\u001b[0m                         Traceback (most recent call last)",
        "\u001b[1;32m<ipython-input-2-fa2c9b7d7a46>\u001b[0m in \u001b[0;36m<module>\u001b[1;34m()\u001b[0m\n\u001b[0;32m     11\u001b[0m \u001b[0mcaffe\u001b[0m\u001b[1;33m.\u001b[0m\u001b[0mset_mode_cpu\u001b[0m\u001b[1;33m(\u001b[0m\u001b[1;33m)\u001b[0m\u001b[1;33m\u001b[0m\u001b[0m\n\u001b[0;32m     12\u001b[0m net = caffe.Net(\"/home/samskruthi/caffe/models/dermnet/vgg19_train_val.prototxt\",\n\u001b[1;32m---> 13\u001b[1;33m                 \"/home/samskruthi/caffe/models/dermnet/vgg19_iter_200.caffemodel\",caffe.TEST)\n\u001b[0m\u001b[0;32m     14\u001b[0m \u001b[1;33m\u001b[0m\u001b[0m\n\u001b[0;32m     15\u001b[0m \u001b[0mtransformer\u001b[0m \u001b[1;33m=\u001b[0m \u001b[0mcaffe\u001b[0m\u001b[1;33m.\u001b[0m\u001b[0mio\u001b[0m\u001b[1;33m.\u001b[0m\u001b[0mTransformer\u001b[0m\u001b[1;33m(\u001b[0m\u001b[1;33m{\u001b[0m\u001b[1;34m'data'\u001b[0m\u001b[1;33m:\u001b[0m \u001b[0mnet\u001b[0m\u001b[1;33m.\u001b[0m\u001b[0mblobs\u001b[0m\u001b[1;33m[\u001b[0m\u001b[1;34m'data'\u001b[0m\u001b[1;33m]\u001b[0m\u001b[1;33m.\u001b[0m\u001b[0mdata\u001b[0m\u001b[1;33m.\u001b[0m\u001b[0mshape\u001b[0m\u001b[1;33m}\u001b[0m\u001b[1;33m)\u001b[0m\u001b[1;33m\u001b[0m\u001b[0m\n",
        "\u001b[1;31mKeyboardInterrupt\u001b[0m: "
       ]
      },
      {
       "output_type": "stream",
       "stream": "stderr",
       "text": [
        "/home/samskruthi/caffe/python/caffe/pycaffe.py:13: RuntimeWarning: to-Python converter for boost::shared_ptr<caffe::Blob<float> > already registered; second conversion method ignored.\n",
        "  from ._caffe import Net, SGDSolver, NesterovSolver, AdaGradSolver, \\\n",
        "/home/samskruthi/caffe/python/caffe/pycaffe.py:13: RuntimeWarning: to-Python converter for boost::shared_ptr<caffe::Solver<float> > already registered; second conversion method ignored.\n",
        "  from ._caffe import Net, SGDSolver, NesterovSolver, AdaGradSolver, \\\n"
       ]
      }
     ],
     "prompt_number": 2
    },
    {
     "cell_type": "code",
     "collapsed": false,
     "input": [],
     "language": "python",
     "metadata": {},
     "outputs": []
    }
   ],
   "metadata": {}
  }
 ]
}